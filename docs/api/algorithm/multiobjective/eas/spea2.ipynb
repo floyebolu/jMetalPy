{
 "cells": [
  {
   "cell_type": "raw",
   "metadata": {
    "raw_mimetype": "text/restructuredtext"
   },
   "source": [
    ".. _nb_spea2:"
   ]
  },
  {
   "cell_type": "markdown",
   "metadata": {},
   "source": [
    "## SPEA2"
   ]
  },
  {
   "cell_type": "markdown",
   "metadata": {},
   "source": [
    "### Example"
   ]
  },
  {
   "cell_type": "code",
   "execution_count": 1,
   "metadata": {
    "ExecuteTime": {
     "end_time": "2024-06-24T10:53:43.386467Z",
     "start_time": "2024-06-24T10:53:42.730673Z"
    },
    "pycharm": {
     "is_executing": false,
     "name": "#%%\n"
    }
   },
   "outputs": [
    {
     "ename": "TypeError",
     "evalue": "unsupported operand type(s) for /: 'float' and 'method'",
     "output_type": "error",
     "traceback": [
      "\u001b[0;31m---------------------------------------------------------------------------\u001b[0m",
      "\u001b[0;31mTypeError\u001b[0m                                 Traceback (most recent call last)",
      "Cell \u001b[0;32mIn[1], line 15\u001b[0m\n\u001b[1;32m      7\u001b[0m problem \u001b[38;5;241m=\u001b[39m ZDT1()\n\u001b[1;32m      9\u001b[0m max_evaluations \u001b[38;5;241m=\u001b[39m \u001b[38;5;241m20000\u001b[39m\n\u001b[1;32m     11\u001b[0m algorithm \u001b[38;5;241m=\u001b[39m SPEA2(\n\u001b[1;32m     12\u001b[0m     problem\u001b[38;5;241m=\u001b[39mproblem,\n\u001b[1;32m     13\u001b[0m     population_size\u001b[38;5;241m=\u001b[39m\u001b[38;5;241m40\u001b[39m,\n\u001b[1;32m     14\u001b[0m     offspring_population_size\u001b[38;5;241m=\u001b[39m\u001b[38;5;241m40\u001b[39m,\n\u001b[0;32m---> 15\u001b[0m     mutation\u001b[38;5;241m=\u001b[39mPolynomialMutation(probability\u001b[38;5;241m=\u001b[39m\u001b[38;5;241;43m1.0\u001b[39;49m\u001b[43m \u001b[49m\u001b[38;5;241;43m/\u001b[39;49m\u001b[43m \u001b[49m\u001b[43mproblem\u001b[49m\u001b[38;5;241;43m.\u001b[39;49m\u001b[43mnumber_of_variables\u001b[49m, distribution_index\u001b[38;5;241m=\u001b[39m\u001b[38;5;241m20\u001b[39m),\n\u001b[1;32m     16\u001b[0m     crossover\u001b[38;5;241m=\u001b[39mSBXCrossover(probability\u001b[38;5;241m=\u001b[39m\u001b[38;5;241m1.0\u001b[39m, distribution_index\u001b[38;5;241m=\u001b[39m\u001b[38;5;241m20\u001b[39m),\n\u001b[1;32m     17\u001b[0m     termination_criterion\u001b[38;5;241m=\u001b[39mStoppingByEvaluations(\u001b[38;5;28mmax\u001b[39m\u001b[38;5;241m=\u001b[39mmax_evaluations)\n\u001b[1;32m     18\u001b[0m )\n\u001b[1;32m     20\u001b[0m algorithm\u001b[38;5;241m.\u001b[39mrun()\n\u001b[1;32m     21\u001b[0m solutions \u001b[38;5;241m=\u001b[39m algorithm\u001b[38;5;241m.\u001b[39mget_result()\n",
      "\u001b[0;31mTypeError\u001b[0m: unsupported operand type(s) for /: 'float' and 'method'"
     ]
    }
   ],
   "source": [
    "from jmetal.algorithm.multiobjective.spea2 import SPEA2\n",
    "from jmetal.operator.crossover import SBXCrossover\n",
    "from jmetal.operator.mutation import PolynomialMutation\n",
    "from jmetal.problem import ZDT1\n",
    "from jmetal.util.termination_criterion import StoppingByEvaluations\n",
    "\n",
    "problem = ZDT1()\n",
    "\n",
    "max_evaluations = 20000\n",
    "\n",
    "algorithm = SPEA2(\n",
    "    problem=problem,\n",
    "    population_size=40,\n",
    "    offspring_population_size=40,\n",
    "    mutation=PolynomialMutation(probability=1.0 / problem.number_of_variables, distribution_index=20),\n",
    "    crossover=SBXCrossover(probability=1.0, distribution_index=20),\n",
    "    termination_criterion=StoppingByEvaluations(max=max_evaluations)\n",
    ")\n",
    "\n",
    "algorithm.run()\n",
    "solutions = algorithm.get_result()"
   ]
  },
  {
   "cell_type": "markdown",
   "metadata": {},
   "source": [
    "We can now visualize the Pareto front approximation:"
   ]
  },
  {
   "cell_type": "code",
   "execution_count": null,
   "metadata": {
    "ExecuteTime": {
     "end_time": "2024-06-24T10:53:43.387543Z",
     "start_time": "2024-06-24T10:53:43.387475Z"
    },
    "pycharm": {
     "is_executing": false,
     "name": "#%%\n"
    }
   },
   "outputs": [],
   "source": [
    "from jmetal.lab.visualization.plotting import Plot\n",
    "from jmetal.util.solution import get_non_dominated_solutions\n",
    "\n",
    "front = get_non_dominated_solutions(solutions)\n",
    "    \n",
    "plot_front = Plot(plot_title='Pareto front approximation', axis_labels=['x', 'y'])\n",
    "plot_front.plot(front, label='SPEA2-ZDT1')"
   ]
  },
  {
   "cell_type": "markdown",
   "metadata": {},
   "source": [
    "### API"
   ]
  },
  {
   "cell_type": "raw",
   "metadata": {
    "pycharm": {
     "is_executing": false,
     "name": "#%% raw\n"
    },
    "raw_mimetype": "text/restructuredtext"
   },
   "source": [
    ".. autoclass:: jmetal.algorithm.multiobjective.spea2.SPEA2\n",
    "   :members:\n",
    "   :undoc-members:\n",
    "   :show-inheritance:\n"
   ]
  }
 ],
 "metadata": {
  "celltoolbar": "Raw Cell Format",
  "kernelspec": {
   "display_name": "Python 3",
   "language": "python",
   "name": "python3"
  },
  "language_info": {
   "codemirror_mode": {
    "name": "ipython",
    "version": 3
   },
   "file_extension": ".py",
   "mimetype": "text/x-python",
   "name": "python",
   "nbconvert_exporter": "python",
   "pygments_lexer": "ipython3",
   "version": "3.7.3"
  },
  "pycharm": {
   "stem_cell": {
    "cell_type": "raw",
    "metadata": {
     "collapsed": false
    },
    "source": []
   }
  }
 },
 "nbformat": 4,
 "nbformat_minor": 1
}
